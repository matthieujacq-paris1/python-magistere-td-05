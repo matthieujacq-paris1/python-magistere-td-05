{
 "cells": [
  {
   "cell_type": "markdown",
   "metadata": {},
   "source": [
    "> ### Vérification de la configuration\n",
    "> Vérifiez que Python et les tests fonctionnent correctement en exécutant les deux cellules ci-dessous."
   ]
  },
  {
   "cell_type": "code",
   "execution_count": null,
   "metadata": {},
   "outputs": [],
   "source": [
    "print(\"✅ Python works!\")\n",
    "from sys import version\n",
    "print(version)"
   ]
  },
  {
   "cell_type": "code",
   "execution_count": null,
   "metadata": {},
   "outputs": [],
   "source": [
    "import ipytest\n",
    "ipytest.autoconfig()\n",
    "ipytest.clean()\n",
    "def test_all_good():\n",
    "    assert \"🐍\" == \"🐍\"\n",
    "ipytest.run()"
   ]
  },
  {
   "cell_type": "markdown",
   "metadata": {},
   "source": [
    "# Le fichier `__init__.py` en python\n",
    "\n",
    "Le fichier `__init__.py` est un fichier spécial qui est utilisé pour indiquer à Python que le répertoire contient un package Python et éventuellement pour effectuer des tâches d'initialisation du package (telles que l'importation de modules, la définition de variables, etc.)\n",
    "\n",
    "Le fichier `__init__.py` est exécuté chaque fois que le package est importé.\n",
    "\n",
    "> **Info** : Dans les anciennes versions de Python (avant la 3.3), la présence d'un fichier `__init__.py` dans un dossier était nécessaire pour que Python considère ce dossier comme un \"package\". Cela permet à Python de pouvoir importer des modules à partir de ce dossier.\n",
    ">\n",
    "> Depuis Python 3.3, ce fichier n'est plus strictement obligatoire pour signaler un package, mais il est encore très utilisé.\n",
    "\n",
    "# Création d'un package Python\n",
    "\n",
    "Un package Python est un répertoire qui contient un fichier `__init__.py` et un ou plusieurs modules Python. Pour créer un package Python, créez un répertoire et ajoutez un fichier `__init__.py` à l'intérieur de ce répertoire.\n",
    "\n",
    "Le fichier `__init__.py` est exécuté lorsqu’on importe le package. Cela permet de définir certaines configurations ou variables au niveau du package entier. Par exemple, on peut importer directement certains modules ou fonctions dans `__init__.py` pour les rendre facilement accessibles depuis le package.\n",
    "\n",
    "Par exemple, avec une arborescence comme celle-ci :\n",
    "\n",
    "```lua\n",
    "mon_package/\n",
    "|-- __init__.py\n",
    "|-- module1.py\n",
    "|-- module2.py\n",
    "```\n",
    "\n",
    "Si dans `__init__.py` vous avez ceci :\n",
    "\n",
    "```python\n",
    "from .module1 import fonction1\n",
    "from .module2 import fonction2\n",
    "```\n",
    "\n",
    "alors vous pouvez accéder aux fonctions fonction1 et fonction2 directement en important mon_package :\n",
    "\n",
    "```python\n",
    "from mon_package import fonction1, fonction2\n",
    "```\n",
    "\n",
    "> **Note** : Les package et modules locaux sont importés en priorité par rapport aux modules standards. Cela signifie que si vous avez un package ou module `math` dans votre projet, il sera importé à la place du module `math` standard de Python.\n",
    "\n",
    "> **🎊 Pourquoi le `.` avant le nom du module dans l'import à l'intérieur de `__init__.py` ?**\n",
    ">\n",
    "> Le `.` que l'import est relatif au package courant. Cela signifie que Python doit chercher le module dans le même package que le fichier `__init__.py`.\n",
    "> Alors qu'avec from module1 import fonction1, on effectue un import absolu. Python cherche alors module1 dans les chemins définis dans le sys.path (les chemins de recherche des modules), ce qui inclut les modules standards, les packages installés via pip, et les dossiers du projet.\n",
    ">\n",
    "> Illustration : imaginons la structure suivante :\n",
    ">\n",
    "> ```lua\n",
    "> mon_projet/\n",
    "> |-- mon_package/\n",
    "> |   |-- __init__.py\n",
    "> |   |-- module1.py\n",
    "> |   |-- module2.py\n",
    "> |-- module1.py\n",
    "> ```\n",
    "> Si `__init__.py` contient :\n",
    "> \n",
    "> ```python\n",
    "> from module1 import fonction1\n",
    "> ```\n",
    "> Python pourrait interpréter cela comme une tentative d’importation de module1.py situé dans mon_projet/ et non dans mon_package/, ce qui peut entraîner des erreurs ou des imports incorrects.\n",
    "> \n",
    "> En revanche, en utilisant :\n",
    "> ```python\n",
    "> from .module1 import fonction1\n",
    "> ```\n",
    "> Python comprend qu’il doit chercher module1.py dans le même package (mon_package), ce qui élimine toute ambiguïté.\n"
   ]
  },
  {
   "cell_type": "code",
   "execution_count": null,
   "metadata": {},
   "outputs": [],
   "source": [
    "# 🏖️ Sandbox for testing code\n"
   ]
  },
  {
   "cell_type": "code",
   "execution_count": null,
   "metadata": {},
   "outputs": [],
   "source": [
    "# 1. Créez un package mon_package contenant module1 et module2. Dans module1, function1() est une fonction retourne toujours True et dans module2, function2() retourne toujours False. Importez les deux fonctions dans un script et affichez le résultat de leur appel.\n"
   ]
  },
  {
   "cell_type": "code",
   "execution_count": null,
   "metadata": {},
   "outputs": [],
   "source": [
    "# 🧪\n",
    "import ipytest\n",
    "ipytest.clean()\n",
    "def test_mon_package():\n",
    "    from mon_package import function1 as f1, function2 as f2\n",
    "    assert f1() == True\n",
    "    assert f2() == False\n",
    "def test_mes_modules():\n",
    "    from mon_package.module1 import function1 as fn1\n",
    "    from mon_package.module2 import function2 as fn2\n",
    "    assert fn1() == True\n",
    "    assert fn2() == False\n",
    "ipytest.run()"
   ]
  },
  {
   "cell_type": "code",
   "execution_count": null,
   "metadata": {},
   "outputs": [],
   "source": [
    "# 2. Dans le fichier d'initialisation de mon_package, déclarez une `VERSION` égale à '1.0'. Importez cette constante dans un script et affichez-la.\n"
   ]
  },
  {
   "cell_type": "code",
   "execution_count": null,
   "metadata": {},
   "outputs": [],
   "source": [
    "# 🧪\n",
    "import ipytest\n",
    "ipytest.clean()\n",
    "def test_version():\n",
    "    from mon_package import VERSION as V\n",
    "    assert V == '1.0'\n",
    "ipytest.run()"
   ]
  }
 ],
 "metadata": {
  "kernelspec": {
   "display_name": "Python 3",
   "language": "python",
   "name": "python3"
  },
  "language_info": {
   "codemirror_mode": {
    "name": "ipython",
    "version": 3
   },
   "file_extension": ".py",
   "mimetype": "text/x-python",
   "name": "python",
   "nbconvert_exporter": "python",
   "pygments_lexer": "ipython3",
   "version": "3.11.5"
  }
 },
 "nbformat": 4,
 "nbformat_minor": 2
}
