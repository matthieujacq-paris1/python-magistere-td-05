{
 "cells": [
  {
   "cell_type": "markdown",
   "metadata": {},
   "source": [
    "> ### Vérification de la configuration\n",
    "> Vérifiez que Python et les tests fonctionnent correctement en exécutant les deux cellules ci-dessous."
   ]
  },
  {
   "cell_type": "code",
   "execution_count": null,
   "metadata": {},
   "outputs": [],
   "source": [
    "print(\"✅ Python works!\")\n",
    "from sys import version\n",
    "print(version)"
   ]
  },
  {
   "cell_type": "code",
   "execution_count": null,
   "metadata": {},
   "outputs": [],
   "source": [
    "import ipytest\n",
    "ipytest.autoconfig()\n",
    "ipytest.clean()\n",
    "def test_all_good():\n",
    "    assert \"🐍\" == \"🐍\"\n",
    "ipytest.run()"
   ]
  },
  {
   "cell_type": "markdown",
   "metadata": {},
   "source": [
    "# Commentaires et docstrings en Python\n",
    "\n",
    "## Commentaires\n",
    "\n",
    "Les commentaires sont des annotations dans le code source qui ne sont pas exécutées par l'interpréteur Python. Ils sont utilisés pour rendre le code plus lisible et pour expliquer le fonctionnement du code. Les commentaires en Python commencent par le symbole `#` et s'étendent jusqu'à la fin de la ligne.\n",
    "\n",
    "Exemple de commentaires en Python :\n",
    "\n",
    "```python\n",
    "# Ceci est un commentaire\n",
    "a = 5  # Ceci est un commentaire en fin de ligne\n",
    "```\n",
    "\n",
    "## Docstring\n",
    "\n",
    "Les docstrings (ou \"chaînes de documentation\") en Python sont des chaînes de caractères spécialement conçues pour documenter des modules, des classes, des fonctions et des méthodes. Elles permettent de décrire ce que fait le code et comment l'utiliser. Contrairement aux commentaires (qui sont destinés aux développeurs qui lisent le code), les docstrings sont accessibles dynamiquement via des outils de documentation, l'IDE, ou la commande help() de Python.\n",
    "\n",
    "### Syntaxe des Docstrings\n",
    "\n",
    "Les docstrings sont placées juste après la définition d'une fonction, d'une classe ou d'un module, et sont entourées de triples guillemets (\"\"\" ou '''). Elles peuvent occuper plusieurs lignes, et il est recommandé d'utiliser des triples guillemets pour pouvoir facilement écrire du texte multi-lignes.\n",
    "\n",
    "La docstring comprend généralement :\n",
    "- une description de la fonction\n",
    "- une liste des paramètres avec leur type et une description\n",
    "- une description de la valeur de retour.\n",
    "\n",
    "Exemple :\n",
    "```python\n",
    "def add(a, b):\n",
    "    \"\"\"\n",
    "    Additionne deux nombres.\n",
    "\n",
    "    Args:\n",
    "    a (float): Le premier nombre.\n",
    "    b (float): Le second nombre.\n",
    "\n",
    "    Returns:\n",
    "    float: La somme de a et b.\n",
    "    \"\"\"\n",
    "    return a + b\n",
    "```\n",
    "\n",
    "### Accéder aux Docstrings\n",
    "\n",
    "En Python, on peut accéder aux docstrings grâce à la fonction `help()`.\n",
    "\n",
    "Exemple :\n",
    "```python\n",
    "help(ajouter)           # Affiche une aide plus complète\n",
    "```\n"
   ]
  },
  {
   "cell_type": "code",
   "execution_count": null,
   "metadata": {},
   "outputs": [],
   "source": [
    "# 🏖️ Sandbox for testing code\n"
   ]
  },
  {
   "cell_type": "code",
   "execution_count": null,
   "metadata": {},
   "outputs": [],
   "source": [
    "# 1. Créez une fonction `square(n)` qui retourne le carré de `n` entier. Documentez cette fonction (description, paramètres, valeur de retour).\n"
   ]
  },
  {
   "cell_type": "code",
   "execution_count": null,
   "metadata": {},
   "outputs": [],
   "source": [
    "# 🧪\n",
    "ipytest.clean()\n",
    "def test_square():\n",
    "    assert square(0) == 0\n",
    "    assert square(1) == 1\n",
    "    assert square(2) == 4\n",
    "    assert square(3) == 9\n",
    "def test_square_docstring():\n",
    "    assert square.__doc__ is not None\n",
    "    assert \"Args:\" in square.__doc__\n",
    "    assert \"n (int): \" in square.__doc__\n",
    "    assert \"Returns:\" in square.__doc__\n",
    "    assert \"int: \" in square.__doc__\n",
    "ipytest.run()"
   ]
  },
  {
   "cell_type": "code",
   "execution_count": null,
   "metadata": {},
   "outputs": [],
   "source": [
    "# 2. Affichez la documentation de la fonction `square`\n",
    "# - en survolant la fonction dans votre IDE\n",
    "# - en utilisant la fonction `help`\n",
    "# (pas de tests pour cette question)"
   ]
  }
 ],
 "metadata": {
  "kernelspec": {
   "display_name": "Python 3",
   "language": "python",
   "name": "python3"
  },
  "language_info": {
   "codemirror_mode": {
    "name": "ipython",
    "version": 3
   },
   "file_extension": ".py",
   "mimetype": "text/x-python",
   "name": "python",
   "nbconvert_exporter": "python",
   "pygments_lexer": "ipython3",
   "version": "3.11.5"
  }
 },
 "nbformat": 4,
 "nbformat_minor": 2
}
