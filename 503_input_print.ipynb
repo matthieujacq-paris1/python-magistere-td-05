{
 "cells": [
  {
   "cell_type": "markdown",
   "metadata": {},
   "source": [
    "> ### Vérification de la configuration\n",
    "> Vérifiez que Python et les tests fonctionnent correctement en exécutant les deux cellules ci-dessous."
   ]
  },
  {
   "cell_type": "code",
   "execution_count": null,
   "metadata": {},
   "outputs": [],
   "source": [
    "print(\"✅ Python works!\")\n",
    "from sys import version\n",
    "print(version)"
   ]
  },
  {
   "cell_type": "code",
   "execution_count": null,
   "metadata": {},
   "outputs": [],
   "source": [
    "import ipytest\n",
    "ipytest.autoconfig()\n",
    "ipytest.clean()\n",
    "def test_all_good():\n",
    "    assert \"🐍\" == \"🐍\"\n",
    "ipytest.run()"
   ]
  },
  {
   "cell_type": "markdown",
   "metadata": {},
   "source": [
    "# Les fonctions `input` et `print`\n",
    "\n",
    "Les fonctions `input` et `print` sont utilisées pour interagir avec l'utilisateur. La fonction `input` permet de demander à l'utilisateur de saisir une valeur, tandis que la fonction `print` permet d'afficher une valeur à l'écran.\n",
    "\n",
    "## `input`\n",
    "\n",
    "`input` peut prendre un argument optionnel qui est le message à afficher à l'utilisateur. Par exemple, `input(\"Entrez un nombre : \")` affichera \"Entrez un nombre : \" avant de demander à l'utilisateur de saisir une valeur. `input` renvoie la valeur saisie par l'utilisateur sous forme de chaîne de caractères.\n",
    "\n",
    "```python\n",
    "# Exemple simple\n",
    "print(\"Quel est votre nom ?\")\n",
    "name = input()\n",
    "print(\"Bonjour,\", name)\n",
    "\n",
    "# Exemple avec un prompt dans la fonction input\n",
    "name = input(\"Quel est votre nom ? \")\n",
    "print(\"Bonjour,\", name)\n",
    "```\n",
    "\n",
    "## `print`\n",
    "\n",
    "`print` peut prendre plusieurs arguments, qui seront affichés à l'écran séparés par un espace. Par exemple, `print(\"Hello\", \"world\")` affichera \"Hello world\".\n",
    "`print` peut également deux arguments optionnels :\n",
    "- `sep` : la chaîne de caractères à utiliser pour séparer les arguments (par défaut, un espace)\n",
    "- `end` : la chaîne de caractères à ajouter à la fin de l'affichage (par défaut, un retour à la ligne)\n",
    "\n",
    "```python\n",
    "print(\"Hello\", \"world\", sep=\", \", end=\"!\\n\") # Affiche \"Hello, world!\"\n",
    "\n",
    "print(\"1\", \"2\", \"3\", sep=\"-\", end=\"-\")\n",
    "print(\"4\", \"5\", \"6\", sep=\"-\")\n",
    "# Affiche \"1-2-3-4-5-6\"\n",
    "```\n"
   ]
  },
  {
   "cell_type": "code",
   "execution_count": null,
   "metadata": {},
   "outputs": [],
   "source": [
    "# 🏖️ Sandbox for testing code\n"
   ]
  },
  {
   "cell_type": "code",
   "execution_count": null,
   "metadata": {},
   "outputs": [],
   "source": [
    "# 1. Créez une fonction `read_user_age` qui demande à l'utilisateur son âge et le retourne sous forme d'entier. Le prompt doit être \"Quel est votre âge ? \".\n"
   ]
  },
  {
   "cell_type": "code",
   "execution_count": null,
   "metadata": {},
   "outputs": [],
   "source": [
    "# 🧪\n",
    "ipytest.clean()\n",
    "def test_read_user_age():\n",
    "    # mock input\n",
    "    input_values = [\"42\"]\n",
    "    input_getter = lambda _: input_values.pop(0)\n",
    "    # mock input() function\n",
    "    backup_input = __builtins__.input\n",
    "    __builtins__.input = input_getter\n",
    "    # check the prompt on stdout\n",
    "    age = read_user_age()\n",
    "    assert age == 42\n",
    "    # restore input() function\n",
    "    __builtins__.input = backup_input\n",
    "ipytest.run()"
   ]
  },
  {
   "cell_type": "code",
   "execution_count": null,
   "metadata": {},
   "outputs": [],
   "source": [
    "# 2. Créez une fonction qui affiche \"Hello world\", sans aller à la ligne.\n"
   ]
  },
  {
   "cell_type": "code",
   "execution_count": null,
   "metadata": {},
   "outputs": [],
   "source": [
    "# 🧪\n",
    "ipytest.clean()\n",
    "def test_print_hello_world(capsys):\n",
    "    print_hello_world()\n",
    "    captured = capsys.readouterr()\n",
    "    assert captured.out == \"Hello world\"\n",
    "ipytest.run()"
   ]
  }
 ],
 "metadata": {
  "kernelspec": {
   "display_name": "Python 3",
   "language": "python",
   "name": "python3"
  },
  "language_info": {
   "codemirror_mode": {
    "name": "ipython",
    "version": 3
   },
   "file_extension": ".py",
   "mimetype": "text/x-python",
   "name": "python",
   "nbconvert_exporter": "python",
   "pygments_lexer": "ipython3",
   "version": "3.11.5"
  }
 },
 "nbformat": 4,
 "nbformat_minor": 2
}
