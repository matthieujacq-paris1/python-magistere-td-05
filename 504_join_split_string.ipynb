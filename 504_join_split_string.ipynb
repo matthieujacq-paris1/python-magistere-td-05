{
 "cells": [
  {
   "cell_type": "markdown",
   "metadata": {},
   "source": [
    "> ### Vérification de la configuration\n",
    "> Vérifiez que Python et les tests fonctionnent correctement en exécutant les deux cellules ci-dessous."
   ]
  },
  {
   "cell_type": "code",
   "execution_count": null,
   "metadata": {},
   "outputs": [],
   "source": [
    "print(\"✅ Python works!\")\n",
    "from sys import version\n",
    "print(version)"
   ]
  },
  {
   "cell_type": "code",
   "execution_count": null,
   "metadata": {},
   "outputs": [],
   "source": [
    "import ipytest\n",
    "ipytest.autoconfig()\n",
    "ipytest.clean()\n",
    "def test_all_good():\n",
    "    assert \"🐍\" == \"🐍\"\n",
    "ipytest.run()"
   ]
  },
  {
   "cell_type": "markdown",
   "metadata": {},
   "source": [
    "# `join` and `split` string methods\n",
    "\n",
    "## `join` method\n",
    "\n",
    "La méthode `join` est utilisée pour concaténer une liste de chaînes de caractères avec un séparateur. Par exemple, si vous avez une liste de mots et que vous souhaitez les concaténer avec un espace entre chaque mot, vous pouvez utiliser la méthode `join` comme suit :\n",
    "\n",
    "```python\n",
    "words = ['Hello', 'world', 'from', 'Python']\n",
    "sentence = ' '.join(words)\n",
    "print(sentence) # Output: Hello world from Python\n",
    "sentence = '***'.join(words)\n",
    "print(sentence) # Output: Hello***world***from***Python\n",
    "```\n",
    "\n",
    "> **Note :** La méthode `join` est une manière beaucoup plus efficace de concaténer des chaînes de caractères que d'utiliser l'opérateur `+`. L'opérateur `+` crée une nouvelle chaîne de caractères à chaque fois qu'il est utilisé, ce qui peut entraîner une perte de performances si vous concaténez un grand nombre de chaînes de caractères.\n",
    "\n",
    "## `split` method\n",
    "\n",
    "La méthode `split` est utilisée pour diviser une chaîne de caractères en une liste de chaînes de caractères en fonction d'un séparateur. Par exemple, si vous avez une chaîne de caractères contenant des mots séparés par des espaces, vous pouvez utiliser la méthode `split` pour obtenir une liste de mots comme suit :\n",
    "\n",
    "```python\n",
    "sentence = 'Hello world from Python'\n",
    "print(sentence.split(' ')) # Output: ['Hello', 'world', 'from', 'Python']\n",
    "print(sentence.split('o') # Output: ['Hell', ' w', 'rld fr', 'm Pyth', 'n']\n",
    "sentence = 'Hello***world***from***Python'\n",
    "print(sentence.split('***')) # Output: ['Hello', 'world', 'from', 'Python']\n",
    "print(sentence.split('*')) # Output: ['Hello', '', '', 'world', '', '', 'from', '', '', 'Python']\n",
    "```\n",
    "\n",
    "> **Note :** Si vous n'indiquez pas de séparateur à la méthode `split`, elle utilisera tous les espaces, les tabulations et les sauts de ligne comme séparateurs par défaut.\n",
    "> \n",
    "> Exemple :\n",
    "> ```python\n",
    "> sentence = 'Hello world\\nfrom\\tPython'\n",
    "> words = sentence.split()\n",
    "> print(words) # Output: ['Hello', 'world', 'from', 'Python']\n",
    "\n",
    "## `"
   ]
  },
  {
   "cell_type": "code",
   "execution_count": null,
   "metadata": {},
   "outputs": [],
   "source": [
    "# 🏖️ Sandbox for testing code\n"
   ]
  },
  {
   "cell_type": "code",
   "execution_count": null,
   "metadata": {},
   "outputs": [],
   "source": [
    "# 1. Créez une fonction `french_to_iso` qui prend en paramètre une date au format `jj/mm/aaaa` et retourne une date au format `aaaa-mm-jj`. Ne pas utiliser le module `datetime` pour cette question.\n",
    "\n"
   ]
  },
  {
   "cell_type": "code",
   "execution_count": null,
   "metadata": {},
   "outputs": [],
   "source": [
    "# 🧪\n",
    "ipytest.clean()\n",
    "def test_french_to_iso():\n",
    "    assert french_to_iso(\"01/01/2022\") == \"2022-01-01\"\n",
    "    assert french_to_iso(\"31/12/2022\") == \"2022-12-31\"\n",
    "ipytest.run()"
   ]
  },
  {
   "cell_type": "code",
   "execution_count": null,
   "metadata": {},
   "outputs": [],
   "source": [
    "# 2. 🎊 Réplication de la méthode join avec une boucle for et l'opérateur de concaténation '+' : Créez une fonction `join(strings, sep)` qui prend en paramètres une liste de chaînes de caractères et un separateur et retourne la contanéation de ces chaînes et de ses séparateurs. Ne pas utiliser la méthode join.\n"
   ]
  },
  {
   "cell_type": "code",
   "execution_count": null,
   "metadata": {},
   "outputs": [],
   "source": [
    "# 🧪\n",
    "ipytest.clean()\n",
    "def test_join():\n",
    "    assert join([\"a\", \"b\", \"c\"], \",\") == \"a,b,c\"\n",
    "    assert join([\"a\", \"b\", \"c\"], \" \") == \"a b c\"\n",
    "    assert join([\"a\", \"b\", \"c\", \"d\"], \"--\") == \"a--b--c--d\"\n",
    "    assert join([\"a\", \"b\", \"c\"], \"\") == \"abc\"\n",
    "ipytest.run()"
   ]
  }
 ],
 "metadata": {
  "kernelspec": {
   "display_name": "Python 3",
   "language": "python",
   "name": "python3"
  },
  "language_info": {
   "codemirror_mode": {
    "name": "ipython",
    "version": 3
   },
   "file_extension": ".py",
   "mimetype": "text/x-python",
   "name": "python",
   "nbconvert_exporter": "python",
   "pygments_lexer": "ipython3",
   "version": "3.11.5"
  }
 },
 "nbformat": 4,
 "nbformat_minor": 2
}
