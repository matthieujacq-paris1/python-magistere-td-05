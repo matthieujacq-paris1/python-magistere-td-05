{
 "cells": [
  {
   "cell_type": "markdown",
   "metadata": {},
   "source": [
    "> ### Vérification de la configuration\n",
    "> Vérifiez que Python et les tests fonctionnent correctement en exécutant les deux cellules ci-dessous."
   ]
  },
  {
   "cell_type": "code",
   "execution_count": null,
   "metadata": {},
   "outputs": [],
   "source": [
    "print(\"✅ Python works!\")\n",
    "from sys import version\n",
    "print(version)"
   ]
  },
  {
   "cell_type": "code",
   "execution_count": null,
   "metadata": {},
   "outputs": [],
   "source": [
    "import ipytest\n",
    "ipytest.autoconfig()\n",
    "ipytest.clean()\n",
    "def test_all_good():\n",
    "    assert \"🐍\" == \"🐍\"\n",
    "ipytest.run()"
   ]
  },
  {
   "cell_type": "markdown",
   "metadata": {},
   "source": [
    "# Constantes du package math et fonctions `round`, `floor` et `ceil`\n",
    "\n",
    "Le module `math` de Python contient des constantes mathématiques et des fonctions mathématiques. On retiendra :\n",
    "- `math.pi` : la constante $\\pi$,\n",
    "- `math.e` : la constante $e$,\n",
    "- `math.inf` : l'infini,\n",
    "- `math.nan` : le nombre `NaN` (Not a Number),\n",
    "\n",
    "ainsi que les fonctions :\n",
    "- `round(x)` arrondir un nombre à l'entier le plus proche\n",
    "- `round(x, n)` arrondir un nombre à $n$ décimales\n",
    "- `floor(x)` et `ceil(x)` pour , à l'entier inférieur et à l'entier supérieur.\n",
    "\n",
    "```python\n",
    "import math\n",
    "\n",
    "print(math.e) # affiche la constante e (env. 2.71828)\n",
    "print(math.round(math.e, 2)) # arrondit e à 2 décimales (env. 2.72)\n",
    "print(math.round(math.e)) # arrondit e à l'entier le plus proche (3)\n",
    "print(math.floor(math.e)) # arrondit e à l'entier inférieur (2)\n",
    "print(math.ceil(math.e)) # arrondit e à l'entier supérieur (3)\n",
    "```"
   ]
  },
  {
   "cell_type": "code",
   "execution_count": null,
   "metadata": {},
   "outputs": [],
   "source": [
    "# 🏖️ Sandbox for testing code\n"
   ]
  },
  {
   "cell_type": "code",
   "execution_count": null,
   "metadata": {},
   "outputs": [],
   "source": [
    "# 1. Créez une fonction `get_circle_area(radius)` qui prend en paramètre un rayon et retourne l'aire d'un cercle, arrondie à 3 chiffres après la virgule.\n",
    "\n"
   ]
  },
  {
   "cell_type": "code",
   "execution_count": null,
   "metadata": {},
   "outputs": [],
   "source": [
    "# 🧪\n",
    "ipytest.clean()\n",
    "def test_get_circle_area():\n",
    "    assert get_circle_area(1) == 3.142\n",
    "    assert get_circle_area(2) == 12.566\n",
    "    assert get_circle_area(3) == 28.274\n",
    "ipytest.run()"
   ]
  }
 ],
 "metadata": {
  "kernelspec": {
   "display_name": "Python 3",
   "language": "python",
   "name": "python3"
  },
  "language_info": {
   "codemirror_mode": {
    "name": "ipython",
    "version": 3
   },
   "file_extension": ".py",
   "mimetype": "text/x-python",
   "name": "python",
   "nbconvert_exporter": "python",
   "pygments_lexer": "ipython3",
   "version": "3.11.5"
  }
 },
 "nbformat": 4,
 "nbformat_minor": 2
}
